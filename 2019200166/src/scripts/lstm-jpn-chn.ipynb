{
 "cells": [
  {
   "cell_type": "markdown",
   "metadata": {
    "collapsed": false
   },
   "source": [
    "# 使用注意力机制的LSTM的机器翻译\n"
   ]
  },
  {
   "cell_type": "markdown",
   "metadata": {
    "collapsed": false
   },
   "source": [
    "## 环境设置\n"
   ]
  },
  {
   "cell_type": "code",
   "execution_count": 1,
   "metadata": {
    "collapsed": false
   },
   "outputs": [
    {
     "name": "stderr",
     "output_type": "stream",
     "text": [
      "/opt/conda/envs/python35-paddle120-env/lib/python3.7/site-packages/paddle/fluid/layers/utils.py:26: DeprecationWarning: `np.int` is a deprecated alias for the builtin `int`. To silence this warning, use `int` by itself. Doing this will not modify any behavior and is safe. When replacing `np.int`, you may wish to use e.g. `np.int64` or `np.int32` to specify the precision. If you wish to review your current use, check the release note link for additional information.\n",
      "Deprecated in NumPy 1.20; for more details and guidance: https://numpy.org/devdocs/release/1.20.0-notes.html#deprecations\n",
      "  def convert_to_list(value, n, name, dtype=np.int):\n"
     ]
    },
    {
     "name": "stdout",
     "output_type": "stream",
     "text": [
      "2.0.2\n"
     ]
    }
   ],
   "source": [
    "import paddle\n",
    "import paddle.nn.functional as F\n",
    "import re\n",
    "import numpy as np\n",
    "\n",
    "print(paddle.__version__)"
   ]
  },
  {
   "cell_type": "markdown",
   "metadata": {
    "collapsed": false
   },
   "source": [
    "## 构建双语句对的数据结构\n",
    "\n",
    "接下来通过处理文本文件，将双语句对读入到python的数据结构中。这里做了如下的处理。\n",
    "\n",
    "- 对于日文，按照分词切分/直接按照字符切分。\n",
    "- 对于中文，为了简便起见，未做分词，按照字做了切分。\n",
    "- 为了后续的程序运行的更快，限制句子长度，得到了一个较小的数据集。"
   ]
  },
  {
   "cell_type": "code",
   "execution_count": 2,
   "metadata": {
    "collapsed": false
   },
   "outputs": [],
   "source": [
    "MAX_LEN = 20"
   ]
  },
  {
   "cell_type": "code",
   "execution_count": 3,
   "metadata": {
    "collapsed": false
   },
   "outputs": [
    {
     "name": "stderr",
     "output_type": "stream",
     "text": [
      "/opt/conda/envs/python35-paddle120-env/lib/python3.7/site-packages/xlrd/xlsx.py:39: DeprecationWarning: defusedxml.cElementTree is deprecated, import from defusedxml.ElementTree instead.\n",
      "  try: import defusedxml.cElementTree as ET\n"
     ]
    },
    {
     "data": {
      "text/html": [
       "<div>\n",
       "<style scoped>\n",
       "    .dataframe tbody tr th:only-of-type {\n",
       "        vertical-align: middle;\n",
       "    }\n",
       "\n",
       "    .dataframe tbody tr th {\n",
       "        vertical-align: top;\n",
       "    }\n",
       "\n",
       "    .dataframe thead th {\n",
       "        text-align: right;\n",
       "    }\n",
       "</style>\n",
       "<table border=\"1\" class=\"dataframe\">\n",
       "  <thead>\n",
       "    <tr style=\"text-align: right;\">\n",
       "      <th></th>\n",
       "      <th>Unnamed: 0</th>\n",
       "      <th>jpnnum</th>\n",
       "      <th>jpn</th>\n",
       "      <th>chnnum</th>\n",
       "      <th>chn</th>\n",
       "      <th>jpn-fenci</th>\n",
       "      <th>chn-fenci</th>\n",
       "    </tr>\n",
       "  </thead>\n",
       "  <tbody>\n",
       "    <tr>\n",
       "      <th>0</th>\n",
       "      <td>0</td>\n",
       "      <td>1297</td>\n",
       "      <td>きみにちょっとしたものをもってきたよ。</td>\n",
       "      <td>343792</td>\n",
       "      <td>我给你带了点东西。</td>\n",
       "      <td>['きみ', 'に', 'ちょっと', 'し', 'た', 'もの', 'を', 'もっ',...</td>\n",
       "      <td>['我', '给', '你', '带', '了', '点', '东西']</td>\n",
       "    </tr>\n",
       "    <tr>\n",
       "      <th>1</th>\n",
       "      <td>1</td>\n",
       "      <td>4702</td>\n",
       "      <td>何かしてみましょう。</td>\n",
       "      <td>2431762</td>\n",
       "      <td>做点儿什么尝试下吧。</td>\n",
       "      <td>['何', 'か', 'し', 'て', 'み', 'ましょう']</td>\n",
       "      <td>['做', '点儿', '什么', '尝试', '下', '吧']</td>\n",
       "    </tr>\n",
       "    <tr>\n",
       "      <th>2</th>\n",
       "      <td>2</td>\n",
       "      <td>4703</td>\n",
       "      <td>私は眠らなければなりません。</td>\n",
       "      <td>2</td>\n",
       "      <td>我该去睡觉了。</td>\n",
       "      <td>['私', 'は', '眠ら', 'なけれ', 'ば', 'なり', 'ませ', 'ん']</td>\n",
       "      <td>['我', '该', '去', '睡觉', '了']</td>\n",
       "    </tr>\n",
       "    <tr>\n",
       "      <th>3</th>\n",
       "      <td>3</td>\n",
       "      <td>4703</td>\n",
       "      <td>私は眠らなければなりません。</td>\n",
       "      <td>2431761</td>\n",
       "      <td>我必须睡了。</td>\n",
       "      <td>['私', 'は', '眠ら', 'なけれ', 'ば', 'なり', 'ませ', 'ん']</td>\n",
       "      <td>['我', '必须', '睡', '了']</td>\n",
       "    </tr>\n",
       "    <tr>\n",
       "      <th>4</th>\n",
       "      <td>4</td>\n",
       "      <td>4704</td>\n",
       "      <td>何してるの？</td>\n",
       "      <td>3</td>\n",
       "      <td>你在干什麼啊？</td>\n",
       "      <td>['何', 'し', 'てる', 'の']</td>\n",
       "      <td>['你', '在', '干什麼', '啊']</td>\n",
       "    </tr>\n",
       "    <tr>\n",
       "      <th>...</th>\n",
       "      <td>...</td>\n",
       "      <td>...</td>\n",
       "      <td>...</td>\n",
       "      <td>...</td>\n",
       "      <td>...</td>\n",
       "      <td>...</td>\n",
       "      <td>...</td>\n",
       "    </tr>\n",
       "    <tr>\n",
       "      <th>12969</th>\n",
       "      <td>12969</td>\n",
       "      <td>182546</td>\n",
       "      <td>急がなければ汽車に遅れますよ。</td>\n",
       "      <td>11294953</td>\n",
       "      <td>快点，不然要赶不上火车了。</td>\n",
       "      <td>['急が', 'なけれ', 'ば', '汽車', 'に', '遅れ', 'ます', 'よ']</td>\n",
       "      <td>['快点', '，', '不然', '要', '赶不上', '火车', '了']</td>\n",
       "    </tr>\n",
       "    <tr>\n",
       "      <th>12970</th>\n",
       "      <td>12970</td>\n",
       "      <td>1529507</td>\n",
       "      <td>理由は知っているけど、君に教えることはできないよ。</td>\n",
       "      <td>11294957</td>\n",
       "      <td>我知道原因，但我不能告诉你。</td>\n",
       "      <td>['理由', 'は', '知っ', 'て', 'いる', 'けど', '、', '君', '...</td>\n",
       "      <td>['我', '知道', '原因', '，', '但', '我', '不能', '告诉', '你']</td>\n",
       "    </tr>\n",
       "    <tr>\n",
       "      <th>12971</th>\n",
       "      <td>12971</td>\n",
       "      <td>1073492</td>\n",
       "      <td>彼女は無関心を装った。</td>\n",
       "      <td>11294959</td>\n",
       "      <td>她假装不在意。</td>\n",
       "      <td>['彼女', 'は', '無', '関心', 'を', '装っ', 'た']</td>\n",
       "      <td>['她', '假装', '不在意']</td>\n",
       "    </tr>\n",
       "    <tr>\n",
       "      <th>12972</th>\n",
       "      <td>12972</td>\n",
       "      <td>83070</td>\n",
       "      <td>母はサラダに塩を加えるのを忘れた。</td>\n",
       "      <td>3669927</td>\n",
       "      <td>我妈妈忘了往沙拉里加盐了。</td>\n",
       "      <td>['母', 'は', 'サラダ', 'に', '塩', 'を', '加える', 'の', '...</td>\n",
       "      <td>['我', '妈妈', '忘', '了', '往', '沙拉', '里加', '盐', '了']</td>\n",
       "    </tr>\n",
       "    <tr>\n",
       "      <th>12973</th>\n",
       "      <td>12973</td>\n",
       "      <td>11291083</td>\n",
       "      <td>母さんったら、サラダに塩を入れ忘れてるわ。</td>\n",
       "      <td>3669927</td>\n",
       "      <td>我妈妈忘了往沙拉里加盐了。</td>\n",
       "      <td>['母', 'さん', 'ったら', '、', 'サラダ', 'に', '塩', 'を', ...</td>\n",
       "      <td>['我', '妈妈', '忘', '了', '往', '沙拉', '里加', '盐', '了']</td>\n",
       "    </tr>\n",
       "  </tbody>\n",
       "</table>\n",
       "<p>12974 rows × 7 columns</p>\n",
       "</div>"
      ],
      "text/plain": [
       "       Unnamed: 0    jpnnum                        jpn    chnnum  \\\n",
       "0               0      1297        きみにちょっとしたものをもってきたよ。    343792   \n",
       "1               1      4702                 何かしてみましょう。   2431762   \n",
       "2               2      4703             私は眠らなければなりません。         2   \n",
       "3               3      4703             私は眠らなければなりません。   2431761   \n",
       "4               4      4704                     何してるの？         3   \n",
       "...           ...       ...                        ...       ...   \n",
       "12969       12969    182546            急がなければ汽車に遅れますよ。  11294953   \n",
       "12970       12970   1529507  理由は知っているけど、君に教えることはできないよ。  11294957   \n",
       "12971       12971   1073492                彼女は無関心を装った。  11294959   \n",
       "12972       12972     83070          母はサラダに塩を加えるのを忘れた。   3669927   \n",
       "12973       12973  11291083      母さんったら、サラダに塩を入れ忘れてるわ。   3669927   \n",
       "\n",
       "                  chn                                          jpn-fenci  \\\n",
       "0           我给你带了点东西。  ['きみ', 'に', 'ちょっと', 'し', 'た', 'もの', 'を', 'もっ',...   \n",
       "1          做点儿什么尝试下吧。                  ['何', 'か', 'し', 'て', 'み', 'ましょう']   \n",
       "2             我该去睡觉了。      ['私', 'は', '眠ら', 'なけれ', 'ば', 'なり', 'ませ', 'ん']   \n",
       "3              我必须睡了。      ['私', 'は', '眠ら', 'なけれ', 'ば', 'なり', 'ませ', 'ん']   \n",
       "4             你在干什麼啊？                              ['何', 'し', 'てる', 'の']   \n",
       "...               ...                                                ...   \n",
       "12969   快点，不然要赶不上火车了。     ['急が', 'なけれ', 'ば', '汽車', 'に', '遅れ', 'ます', 'よ']   \n",
       "12970  我知道原因，但我不能告诉你。  ['理由', 'は', '知っ', 'て', 'いる', 'けど', '、', '君', '...   \n",
       "12971         她假装不在意。             ['彼女', 'は', '無', '関心', 'を', '装っ', 'た']   \n",
       "12972   我妈妈忘了往沙拉里加盐了。  ['母', 'は', 'サラダ', 'に', '塩', 'を', '加える', 'の', '...   \n",
       "12973   我妈妈忘了往沙拉里加盐了。  ['母', 'さん', 'ったら', '、', 'サラダ', 'に', '塩', 'を', ...   \n",
       "\n",
       "                                               chn-fenci  \n",
       "0                   ['我', '给', '你', '带', '了', '点', '东西']  \n",
       "1                      ['做', '点儿', '什么', '尝试', '下', '吧']  \n",
       "2                             ['我', '该', '去', '睡觉', '了']  \n",
       "3                                  ['我', '必须', '睡', '了']  \n",
       "4                                 ['你', '在', '干什麼', '啊']  \n",
       "...                                                  ...  \n",
       "12969           ['快点', '，', '不然', '要', '赶不上', '火车', '了']  \n",
       "12970  ['我', '知道', '原因', '，', '但', '我', '不能', '告诉', '你']  \n",
       "12971                                 ['她', '假装', '不在意']  \n",
       "12972   ['我', '妈妈', '忘', '了', '往', '沙拉', '里加', '盐', '了']  \n",
       "12973   ['我', '妈妈', '忘', '了', '往', '沙拉', '里加', '盐', '了']  \n",
       "\n",
       "[12974 rows x 7 columns]"
      ]
     },
     "execution_count": 3,
     "metadata": {},
     "output_type": "execute_result"
    }
   ],
   "source": [
    "import pandas as pd\r\n",
    "data=pd.read_excel(\"data/jpn-chn-fenci.xlsx\")\r\n",
    "data"
   ]
  },
  {
   "cell_type": "code",
   "execution_count": 4,
   "metadata": {
    "collapsed": false
   },
   "outputs": [],
   "source": [
    "pairs=[]\r\n",
    "for i in range(len(data)):\r\n",
    "    pairs.append((eval(str(data['jpn-fenci'][i])),eval(str(data['chn-fenci'][i]))))"
   ]
  },
  {
   "cell_type": "code",
   "execution_count": 5,
   "metadata": {
    "collapsed": false
   },
   "outputs": [
    {
     "name": "stdout",
     "output_type": "stream",
     "text": [
      "12661\n",
      "(['きみ', 'に', 'ちょっと', 'し', 'た', 'もの', 'を', 'もっ', 'て', 'き', 'た', 'よ'], ['我', '给', '你', '带', '了', '点', '东西'])\n",
      "(['何', 'か', 'し', 'て', 'み', 'ましょう'], ['做', '点儿', '什么', '尝试', '下', '吧'])\n",
      "(['私', 'は', '眠ら', 'なけれ', 'ば', 'なり', 'ませ', 'ん'], ['我', '该', '去', '睡觉', '了'])\n",
      "(['私', 'は', '眠ら', 'なけれ', 'ば', 'なり', 'ませ', 'ん'], ['我', '必须', '睡', '了'])\n",
      "(['何', 'し', 'てる', 'の'], ['你', '在', '干什麼', '啊'])\n",
      "(['何', 'し', 'てる', 'の'], ['你', '做', '什麼'])\n",
      "(['今日', 'は', '６', '月', '１８', '日', 'で', '、', 'ムー', 'リエル', 'の', '誕生', '日', 'です'], ['今天', '是', '６', '月', '１', '８', '号', '，', '也', '是', 'Muiriel', '的', '生日'])\n",
      "(['お', '誕生', '日', 'お', 'めでとう', 'ムー', 'リエル'], ['生日快乐', '，', 'Muiriel'])\n",
      "(['ムー', 'リエル', 'は', '２０', '歳', 'に', 'なり', 'まし', 'た'], ['Muiriel', '现在', '20', '岁', '了'])\n",
      "(['パスワード', 'は', '「', 'Muiriel', '」', 'です'], ['密码', '是', '\"', 'Muiriel', '\"'])\n"
     ]
    }
   ],
   "source": [
    "\n",
    "# create a smaller dataset to make the demo process faster\n",
    "filtered_pairs = []\n",
    "\n",
    "for x in pairs:\n",
    "    if len(x[0]) < MAX_LEN and len(x[1]) < MAX_LEN:#and x[0][0] in ('i', 'you', 'he', 'she', 'we', 'they'):\n",
    "        filtered_pairs.append(x)\n",
    "           \n",
    "print(len(filtered_pairs))\n",
    "for x in filtered_pairs[:10]: print(x) "
   ]
  },
  {
   "cell_type": "markdown",
   "metadata": {
    "collapsed": false
   },
   "source": [
    "##  创建词表\n",
    "\n",
    "接下来我们分别创建中英文的词表，这两份词表会用来将日文和中文的句子转换为词的ID构成的序列。词表中还加入了如下三个特殊的词：\n",
    "- `<pad>`: 用来对较短的句子进行填充。\n",
    "- `<bos>`: \"begin of sentence\"， 表示句子的开始的特殊词。\n",
    "- `<eos>`: \"end of sentence\"， 表示句子的结束的特殊词。\n",
    "\n",
    "Note: 在实际的任务中，可能还需要通过`<unk>`（或者`<oov>`）特殊词来表示未在词表中出现的词。"
   ]
  },
  {
   "cell_type": "code",
   "execution_count": 6,
   "metadata": {
    "collapsed": false
   },
   "outputs": [
    {
     "name": "stdout",
     "output_type": "stream",
     "text": [
      "7479\n",
      "11308\n"
     ]
    }
   ],
   "source": [
    "en_vocab = {}\n",
    "cn_vocab = {}\n",
    "\n",
    "# create special token for pad, begin of sentence, end of sentence\n",
    "en_vocab['<pad>'], en_vocab['<bos>'], en_vocab['<eos>'] = 0, 1, 2\n",
    "cn_vocab['<pad>'], cn_vocab['<bos>'], cn_vocab['<eos>'] = 0, 1, 2\n",
    "\n",
    "en_idx, cn_idx = 3, 3\n",
    "for en, cn in filtered_pairs:\n",
    "    for w in en: \n",
    "        if w not in en_vocab: \n",
    "            en_vocab[w] = en_idx\n",
    "            en_idx += 1\n",
    "    for w in cn:  \n",
    "        if w not in cn_vocab: \n",
    "            cn_vocab[w] = cn_idx\n",
    "            cn_idx += 1\n",
    "\n",
    "print(len(list(en_vocab)))\n",
    "print(len(list(cn_vocab)))"
   ]
  },
  {
   "cell_type": "markdown",
   "metadata": {
    "collapsed": false
   },
   "source": [
    "## 创建padding过的数据集\n",
    "\n",
    "接下来根据词表，将会创建一份实际的用于训练的用numpy array组织起来的数据集。\n",
    "- 所有的句子都通过`<pad>`补充成为了长度相同的句子。\n",
    "- 对于日文句子（源语言），将其反转了过来，这会带来更好的翻译的效果。\n",
    "- 所创建的`padded_cn_label_sents`是训练过程中的预测的目标，即，每个中文的当前词去预测下一个词是什么词。\n"
   ]
  },
  {
   "cell_type": "code",
   "execution_count": 7,
   "metadata": {
    "collapsed": false
   },
   "outputs": [
    {
     "name": "stdout",
     "output_type": "stream",
     "text": [
      "(12661, 21)\n",
      "(12661, 22)\n",
      "(12661, 22)\n"
     ]
    }
   ],
   "source": [
    "padded_en_sents = []\n",
    "padded_cn_sents = []\n",
    "padded_cn_label_sents = []\n",
    "for en, cn in filtered_pairs:\n",
    "    # reverse source sentence\n",
    "    padded_en_sent = en + ['<eos>'] + ['<pad>'] * (MAX_LEN - len(en))\n",
    "    padded_en_sent.reverse()\n",
    "    padded_cn_sent = ['<bos>'] + cn + ['<eos>'] + ['<pad>'] * (MAX_LEN - len(cn))\n",
    "    padded_cn_label_sent = cn + ['<eos>'] + ['<pad>'] * (MAX_LEN - len(cn) + 1) \n",
    "\n",
    "    padded_en_sents.append([en_vocab[w] for w in padded_en_sent])\n",
    "    padded_cn_sents.append([cn_vocab[w] for w in padded_cn_sent])\n",
    "    padded_cn_label_sents.append([cn_vocab[w] for w in padded_cn_label_sent])\n",
    "\n",
    "train_en_sents = np.array(padded_en_sents)\n",
    "train_cn_sents = np.array(padded_cn_sents)\n",
    "train_cn_label_sents = np.array(padded_cn_label_sents)\n",
    "\n",
    "print(train_en_sents.shape)\n",
    "print(train_cn_sents.shape)\n",
    "print(train_cn_label_sents.shape)"
   ]
  },
  {
   "cell_type": "markdown",
   "metadata": {
    "collapsed": false
   },
   "source": [
    "## 创建网络\n",
    "\n",
    "创建一个Encoder-AttentionDecoder架构的模型结构用来完成机器翻译任务。\n",
    "首先将设置一些必要的网络结构中用到的参数。"
   ]
  },
  {
   "cell_type": "code",
   "execution_count": 8,
   "metadata": {
    "collapsed": false
   },
   "outputs": [],
   "source": [
    "embedding_size = 128\n",
    "hidden_size = 256\n",
    "num_encoder_lstm_layers = 1\n",
    "en_vocab_size = len(list(en_vocab))\n",
    "cn_vocab_size = len(list(cn_vocab))\n",
    "epochs = 20\n",
    "batch_size = 16"
   ]
  },
  {
   "cell_type": "markdown",
   "metadata": {
    "collapsed": false
   },
   "source": [
    "## Encoder部分\n",
    "\n",
    "在编码器的部分，通过查找完Embedding之后接一个LSTM的方式构建一个对源语言编码的网络。飞桨的RNN系列的API，除了LSTM之外，还提供了SimleRNN, GRU供使用，同时，还可以使用反向RNN，双向RNN，多层RNN等形式。也可以通过`dropout`参数设置是否对多层RNN的中间层进行`dropout`处理，来防止过拟合。\n",
    "\n",
    "除了使用序列到序列的RNN操作之外，也可以通过SimpleRNN, GRUCell, LSTMCell等API更灵活的创建单步的RNN计算，甚至通过继承RNNCellBase来实现自己的RNN计算单元。"
   ]
  },
  {
   "cell_type": "code",
   "execution_count": 9,
   "metadata": {
    "collapsed": false
   },
   "outputs": [],
   "source": [
    "# encoder: simply learn representation of source sentence\n",
    "class Encoder(paddle.nn.Layer):\n",
    "    def __init__(self):\n",
    "        super(Encoder, self).__init__()\n",
    "        self.emb = paddle.nn.Embedding(en_vocab_size, embedding_size,)\n",
    "        self.lstm = paddle.nn.LSTM(input_size=embedding_size, \n",
    "                                   hidden_size=hidden_size, \n",
    "                                   num_layers=num_encoder_lstm_layers)\n",
    "\n",
    "    def forward(self, x):\n",
    "        x = self.emb(x)\n",
    "        x, (_, _) = self.lstm(x)\n",
    "        return x"
   ]
  },
  {
   "cell_type": "markdown",
   "metadata": {
    "collapsed": false
   },
   "source": [
    "## AttentionDecoder部分\n",
    "\n",
    "在解码器部分，通过一个带有注意力机制的LSTM来完成解码。\n",
    "\n",
    "- 单步的LSTM：在解码器的实现的部分，同样使用LSTM，与Encoder部分不同的是，下面的代码，每次只让LSTM往前计算一次。整体的recurrent部分，是在训练循环内完成的。\n",
    "- 注意力机制：这里使用了一个由两个Linear组成的网络来完成注意力机制的计算，它用来计算出目标语言在每次翻译一个词的时候，需要对源语言当中的每个词需要赋予多少的权重。"
   ]
  },
  {
   "cell_type": "code",
   "execution_count": 10,
   "metadata": {
    "collapsed": false
   },
   "outputs": [],
   "source": [
    "# only move one step of LSTM, \n",
    "# the recurrent loop is implemented inside training loop\n",
    "class AttentionDecoder(paddle.nn.Layer):\n",
    "    def __init__(self):\n",
    "        super(AttentionDecoder, self).__init__()\n",
    "        self.emb = paddle.nn.Embedding(cn_vocab_size, embedding_size)\n",
    "        self.lstm = paddle.nn.LSTM(input_size=embedding_size + hidden_size, \n",
    "                                   hidden_size=hidden_size)\n",
    "\n",
    "        # for computing attention weights\n",
    "        self.attention_linear1 = paddle.nn.Linear(hidden_size * 2, hidden_size)\n",
    "        self.attention_linear2 = paddle.nn.Linear(hidden_size, 1)\n",
    "        \n",
    "        # for computing output logits\n",
    "        self.outlinear =paddle.nn.Linear(hidden_size, cn_vocab_size)\n",
    "\n",
    "    def forward(self, x, previous_hidden, previous_cell, encoder_outputs):\n",
    "        x = self.emb(x)\n",
    "        \n",
    "        attention_inputs = paddle.concat((encoder_outputs, \n",
    "                                      paddle.tile(previous_hidden, repeat_times=[1, MAX_LEN+1, 1])),\n",
    "                                      axis=-1\n",
    "                                     )\n",
    "\n",
    "        attention_hidden = self.attention_linear1(attention_inputs)\n",
    "        attention_hidden = F.tanh(attention_hidden)\n",
    "        attention_logits = self.attention_linear2(attention_hidden)\n",
    "        attention_logits = paddle.squeeze(attention_logits)\n",
    "\n",
    "        attention_weights = F.softmax(attention_logits)        \n",
    "        attention_weights = paddle.expand_as(paddle.unsqueeze(attention_weights, -1), \n",
    "                                             encoder_outputs)\n",
    "\n",
    "        context_vector = paddle.multiply(encoder_outputs, attention_weights)               \n",
    "        context_vector = paddle.sum(context_vector, 1)\n",
    "        context_vector = paddle.unsqueeze(context_vector, 1)\n",
    "        \n",
    "        lstm_input = paddle.concat((x, context_vector), axis=-1)\n",
    "\n",
    "        # LSTM requirement to previous hidden/state: \n",
    "        # (number_of_layers * direction, batch, hidden)\n",
    "        previous_hidden = paddle.transpose(previous_hidden, [1, 0, 2])\n",
    "        previous_cell = paddle.transpose(previous_cell, [1, 0, 2])\n",
    "        \n",
    "        x, (hidden, cell) = self.lstm(lstm_input, (previous_hidden, previous_cell))\n",
    "        \n",
    "        # change the return to (batch, number_of_layers * direction, hidden)\n",
    "        hidden = paddle.transpose(hidden, [1, 0, 2])\n",
    "        cell = paddle.transpose(cell, [1, 0, 2])\n",
    "\n",
    "        output = self.outlinear(hidden)\n",
    "        output = paddle.squeeze(output)\n",
    "        return output, (hidden, cell)"
   ]
  },
  {
   "cell_type": "markdown",
   "metadata": {
    "collapsed": false
   },
   "source": [
    "## 训练模型\n",
    "\n",
    "接下来开始训练模型。\n",
    "\n",
    "- 在每个epoch开始之前，对训练数据进行了随机打乱。\n",
    "- 通过多次调用`atten_decoder`，在这里实现了解码时的recurrent循环。\n",
    "- `teacher forcing`策略: 在每次解码下一个词时，给定了训练数据当中的真实词作为了预测下一个词时的输入。"
   ]
  },
  {
   "cell_type": "code",
   "execution_count": 11,
   "metadata": {
    "collapsed": false
   },
   "outputs": [
    {
     "name": "stderr",
     "output_type": "stream",
     "text": [
      "W1216 09:50:03.417253   144 device_context.cc:362] Please NOTE: device: 0, GPU Compute Capability: 7.0, Driver API Version: 11.2, Runtime API Version: 10.1\n",
      "W1216 09:50:03.422962   144 device_context.cc:372] device: 0, cuDNN Version: 7.6.\n"
     ]
    },
    {
     "name": "stdout",
     "output_type": "stream",
     "text": [
      "epoch:0\n",
      "iter 0, loss:[9.330698]\n",
      "iter 200, loss:[1.635001]\n"
     ]
    }
   ],
   "source": [
    "encoder = Encoder()\n",
    "atten_decoder = AttentionDecoder()\n",
    "\n",
    "opt = paddle.optimizer.Adam(learning_rate=0.001, \n",
    "                            parameters=encoder.parameters()+atten_decoder.parameters())\n",
    "\n",
    "for epoch in range(epochs):\n",
    "    print(\"epoch:{}\".format(epoch))\n",
    "\n",
    "    # shuffle training data\n",
    "    perm = np.random.permutation(len(train_en_sents))\n",
    "    train_en_sents_shuffled = train_en_sents[perm]\n",
    "    train_cn_sents_shuffled = train_cn_sents[perm]\n",
    "    train_cn_label_sents_shuffled = train_cn_label_sents[perm]\n",
    "\n",
    "    for iteration in range(train_en_sents_shuffled.shape[0] // batch_size):\n",
    "        x_data = train_en_sents_shuffled[(batch_size*iteration):(batch_size*(iteration+1))]\n",
    "        sent = paddle.to_tensor(x_data)\n",
    "        en_repr = encoder(sent)\n",
    "\n",
    "        x_cn_data = train_cn_sents_shuffled[(batch_size*iteration):(batch_size*(iteration+1))]\n",
    "        x_cn_label_data = train_cn_label_sents_shuffled[(batch_size*iteration):(batch_size*(iteration+1))]\n",
    "\n",
    "        # shape: (batch,  num_layer(=1 here) * num_of_direction(=1 here), hidden_size)\n",
    "        hidden = paddle.zeros([batch_size, 1, hidden_size])\n",
    "        cell = paddle.zeros([batch_size, 1, hidden_size])\n",
    "\n",
    "        loss = paddle.zeros([1])\n",
    "        # the decoder recurrent loop mentioned above\n",
    "        for i in range(MAX_LEN + 2):\n",
    "            cn_word = paddle.to_tensor(x_cn_data[:,i:i+1])\n",
    "            cn_word_label = paddle.to_tensor(x_cn_label_data[:,i])\n",
    "\n",
    "            logits, (hidden, cell) = atten_decoder(cn_word, hidden, cell, en_repr)\n",
    "            step_loss = F.cross_entropy(logits, cn_word_label)\n",
    "            loss += step_loss\n",
    "\n",
    "        loss = loss / (MAX_LEN + 2)\n",
    "        if(iteration % 200 == 0):\n",
    "            print(\"iter {}, loss:{}\".format(iteration, loss.numpy()))\n",
    "\n",
    "        loss.backward()\n",
    "        opt.step()\n",
    "        opt.clear_grad()"
   ]
  },
  {
   "cell_type": "markdown",
   "metadata": {
    "collapsed": false
   },
   "source": [
    "## 使用模型进行机器翻译\n",
    "\n",
    "完成上面的模型训练之后，我们可以得到一个能够从日文翻译成中文的机器翻译模型。接下来我们通过一个greedy search来实现使用该模型完成实际的机器翻译。"
   ]
  },
  {
   "cell_type": "code",
   "execution_count": 18,
   "metadata": {
    "collapsed": false
   },
   "outputs": [],
   "source": [
    "encoder.eval()\n",
    "atten_decoder.eval()\n",
    "\n",
    "num_of_exampels_to_evaluate = 10\n",
    "\n",
    "indices = np.random.choice(len(train_en_sents),  num_of_exampels_to_evaluate, replace=False)\n",
    "x_data = train_en_sents[indices]\n",
    "sent = paddle.to_tensor(x_data)\n",
    "en_repr = encoder(sent)\n",
    "\n",
    "word = np.array(\n",
    "    [[cn_vocab['<bos>']]] * num_of_exampels_to_evaluate\n",
    ")\n",
    "word = paddle.to_tensor(word)\n",
    "\n",
    "hidden = paddle.zeros([num_of_exampels_to_evaluate, 1, hidden_size])\n",
    "cell = paddle.zeros([num_of_exampels_to_evaluate, 1, hidden_size])\n",
    "\n",
    "decoded_sent = []\n",
    "for i in range(MAX_LEN + 2):\n",
    "    logits, (hidden, cell) = atten_decoder(word, hidden, cell, en_repr)\n",
    "    word = paddle.argmax(logits, axis=1)\n",
    "    decoded_sent.append(word.numpy())\n",
    "    word = paddle.unsqueeze(word, axis=-1)\n",
    "    \n",
    "results = np.stack(decoded_sent, axis=1)\n",
    "for i in range(num_of_exampels_to_evaluate):\n",
    "    en_input = \" \".join(filtered_pairs[indices[i]][0])\n",
    "    ground_truth_translate = \"\".join(filtered_pairs[indices[i]][1])\n",
    "    model_translate = \"\"\n",
    "    for k in results[i]:\n",
    "        w = list(cn_vocab)[k]\n",
    "        if w != '<pad>' and w != '<eos>':\n",
    "            model_translate += w\n",
    "    print(en_input)\n",
    "    print(\"true: {}\".format(ground_truth_translate))\n",
    "    print(\"pred: {}\".format(model_translate))"
   ]
  }
 ],
 "metadata": {
  "kernelspec": {
   "display_name": "Python 3",
   "language": "python",
   "name": "py35-paddle1.2.0"
  },
  "language_info": {
   "codemirror_mode": {
    "name": "ipython",
    "version": 3
   },
   "file_extension": ".py",
   "mimetype": "text/x-python",
   "name": "python",
   "nbconvert_exporter": "python",
   "pygments_lexer": "ipython3",
   "version": "3.7.4"
  }
 },
 "nbformat": 4,
 "nbformat_minor": 1
}
