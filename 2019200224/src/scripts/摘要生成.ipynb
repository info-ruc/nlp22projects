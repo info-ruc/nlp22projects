{
 "cells": [
  {
   "cell_type": "code",
   "execution_count": 1,
   "id": "ed53572b",
   "metadata": {},
   "outputs": [
    {
     "name": "stderr",
     "output_type": "stream",
     "text": [
      "C:\\ProgramData\\Anaconda3\\lib\\site-packages\\scipy\\__init__.py:146: UserWarning: A NumPy version >=1.16.5 and <1.23.0 is required for this version of SciPy (detected version 1.23.5\n",
      "  warnings.warn(f\"A NumPy version >={np_minversion} and <{np_maxversion}\"\n",
      "Building prefix dict from the default dictionary ...\n",
      "Loading model from cache C:\\Users\\Public\\Documents\\Wondershare\\CreatorTemp\\jieba.cache\n"
     ]
    },
    {
     "name": "stdout",
     "output_type": "stream",
     "text": [
      "原文为：\n",
      "北京时间12月2日，黄蜂主场力取山猫；公牛回到了久违的主场，而且迎来了卡洛斯布泽尔，但遭到魔术的痛击；小牛首发表现平平，但仍主场轻取森林狼。以下是这三场比赛的综述：山猫73黄蜂89黄蜂135大将克里斯保罗只得9分，但助攻14次，大卫韦斯特22分6个篮板，埃梅卡奥卡福14分13个篮板。山猫612二连败。杰拉德华莱士18分，dj奥古斯丁和鲍里斯迪奥各13分。斯蒂芬杰克逊被禁赛一场。最后3分06秒山猫又未能得分，比赛的最后9分钟他们只投中一球，仅得4分，糟糕的进攻让他们让胜利。最后一节山猫只得11分。魔术107公牛78魔术144五连胜。贾米尔尼尔森拿下24分9次助攻，文斯卡特22分，德怀特霍华德13分12个篮板，拉沙德刘易斯13分。替补出场的布兰顿巴斯得了17分。公牛97回到主场，卡洛斯布泽尔首次代表他们亮相，他首发出场，在22分钟内只得5分2个篮板。乔金了16分，但这个联盟篮板手竟然未能抢到一个篮板，德里克罗斯15分。夏天公牛的唯一收获就是布泽尔，但他由意外受伤，此前一直缺阵，今天才首次亮相。布泽尔表现得一个未打球的球员，未能给公牛带来太大的帮助。他们刚结束漫长的客场旅行，虽然回到主场，仍是显得疲惫。首节公牛只以2228落后，但魔术以一波164开始第二节，一举以4426拉开差距。公牛在本节打了7分钟后只投中两球，本节他们只得15分，而魔术得了33分。半场结束时，公牛以3761落后。下半场魔术一直保持两位数的优势，最多时领先了26分。森林狼86小牛100（点击观看视频集锦）小牛144七连胜。首发只有德克诺维茨基和卡隆巴特勒刚好得了10分，其他人得分都未能上双，泰森钱德勒抢下了18个篮板。替补出场的肖恩马里昂16分最高，杰森特里12分，胡安巴里亚14分。森林狼414五连败。迈克尔比斯利16分，凯文勒夫12分15个篮板，达科米利西奇12分8个篮板。小牛首发五虎状态一般，诺维茨基也此前连砍高分的，开场后命中率不高。尽管如此，小牛还是早早控制局面，在第二节还有2人22秒时以5337领先。半场结束时，森林狼只能将比分追成4355。下半场小牛继续扩大优势，第三节结束三分命中，他们以8364领先了19分。大比分领先的小牛第四节给了替补更多机会，他们很快取得20分以上的优势，早早锁定胜局。吴哥\n"
     ]
    },
    {
     "name": "stderr",
     "output_type": "stream",
     "text": [
      "Loading model cost 0.533 seconds.\n",
      "Prefix dict has been built successfully.\n"
     ]
    },
    {
     "name": "stdout",
     "output_type": "stream",
     "text": [
      "1、公牛97回到主场，卡洛斯布泽尔首次代表他们亮相，他首发出场，在22分钟内只得5分2个篮板。\n",
      "2、北京时间12月2日，黄蜂主场力取山猫；公牛回到了久违的主场，而且迎来了卡洛斯布泽尔，但遭到魔术的痛击；小牛首发表现平平，但仍主场轻取森林狼。\n",
      "3、乔金了16分，但这个联盟篮板手竟然未能抢到一个篮板，德里克罗斯15分。\n",
      "摘要为：\n"
     ]
    }
   ],
   "source": [
    "from tkinter import *\n",
    "import MMR\n",
    "\n",
    "def run():\n",
    "    txt = txtone.get(\"0.0\",'end')\n",
    "    with open(\"test.txt\",\"w\",encoding = 'utf-8') as f :\n",
    "        f.write(txt)\n",
    "    with open(\"test.txt\", \"r\", encoding='utf-8') as njuptcs:\n",
    "        txt = [line.strip() for line in open(\"test.txt\", \"r\",encoding='utf-8').readlines()]\n",
    "        text = njuptcs.read().replace('\\n', '')\n",
    "    print ('原文为：')\n",
    "    for i in txt:\n",
    "        print (i)\n",
    "    summarize_text = MMR.summarize(text,3)\n",
    "    #summarize_text = textrank.summarize(text,5)\n",
    "    print ('摘要为：')\n",
    "    #ing = 0\n",
    "    for i in summarize_text:\n",
    "        #ing += 1\n",
    "        #txttwo.insert('end',ing)\n",
    "        #txttwo.insert('end','、')\n",
    "        txttwo.insert('end',i)\n",
    "        txttwo.insert('end','\\n')\n",
    "        #print (ing,i)\n",
    "    txttwo.insert('end', '\\n')\n",
    "\n",
    "#初始化Tk()\n",
    "myWindow = Tk()\n",
    "myWindow.minsize(830,480)\n",
    "#设置标题\n",
    "myWindow.title('论文摘要自动生成系统(MMR)')\n",
    "#标签控件布局\n",
    "Label(myWindow, text = \"输入文本\",font = ('微软雅黑 12 bold')).grid(row = 0,column = 0)\n",
    "Label(myWindow, text = \"输出摘要\",font = ('微软雅黑 12 bold')).grid(row = 0,column = 2)\n",
    "#Entry控件布局\n",
    "entry1=Entry(myWindow)\n",
    "txtone = Text(entry1)\n",
    "txtone.pack()\n",
    "entry2=Entry(myWindow)\n",
    "txttwo = Text(entry2)\n",
    "txttwo.pack()\n",
    "entry1.grid(row = 0, column = 1)\n",
    "entry2.grid(row = 0, column = 3)\n",
    "#Quit按钮退出；Run按钮打印计算结果\n",
    "Button(myWindow, text='退出',command = myWindow.quit, font = ('微软雅黑 12 bold')).grid(row = 1, column = 3,sticky = S,padx = 20,pady = 20)\n",
    "Button(myWindow, text='运行',command = run, font = ('微软雅黑 12 bold')).grid(row = 1, column = 1, sticky = S, padx = 20,pady = 20)\n",
    "#进入消息循环\n",
    "myWindow.mainloop()"
   ]
  },
  {
   "cell_type": "code",
   "execution_count": null,
   "id": "241a77b0",
   "metadata": {},
   "outputs": [],
   "source": []
  }
 ],
 "metadata": {
  "kernelspec": {
   "display_name": "Python 3 (ipykernel)",
   "language": "python",
   "name": "python3"
  },
  "language_info": {
   "codemirror_mode": {
    "name": "ipython",
    "version": 3
   },
   "file_extension": ".py",
   "mimetype": "text/x-python",
   "name": "python",
   "nbconvert_exporter": "python",
   "pygments_lexer": "ipython3",
   "version": "3.9.7"
  }
 },
 "nbformat": 4,
 "nbformat_minor": 5
}
